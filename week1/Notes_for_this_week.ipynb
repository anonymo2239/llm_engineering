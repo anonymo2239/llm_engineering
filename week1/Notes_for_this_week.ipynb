{
 "cells": [
  {
   "attachments": {},
   "cell_type": "markdown",
   "id": "092cbdfb-53ac-4d3a-a18a-4f944af26b30",
   "metadata": {
    "editable": true,
    "slideshow": {
     "slide_type": ""
    },
    "tags": []
   },
   "source": [
    "![image.png](image01.png)"
   ]
  },
  {
   "cell_type": "markdown",
   "id": "8715e438-0e5f-4d24-bedc-2c133ee256d6",
   "metadata": {},
   "source": [
    "\n",
    "## 🔠 **LLM (Large Language Model)** nedir?\n",
    "\n",
    "**Çok büyük miktarda metin verisiyle eğitilmiş yapay zeka modelleridir.**\n",
    "Doğal dil üretme, anlama, çeviri, özetleme gibi görevleri yerine getirir.\n",
    "👉 *(Örnek: GPT-4, Claude, LLaMA, Mistral)*\n",
    "\n",
    "---\n",
    "\n",
    "## 🧠 Models (Modeller)\n",
    "\n",
    "* **Open-Source:** Kaynak kodu açık modeller.\n",
    "  👉 *(Örnek: LLaMA 2, Mistral, Falcon)*\n",
    "* **Closed Source:** Kaynak kodu kapalı, sadece API ile erişilebilen modeller.\n",
    "  👉 *(Örnek: GPT-4, Claude)*\n",
    "* **Multi-modal:** Metin + Görsel + Ses gibi farklı veri türlerini aynı anda işleyebilen modeller.\n",
    "  👉 *(Örnek: GPT-4o, Gemini, Claude 3.5 Sonnet)*\n",
    "* **Architecture:** Modelin katman yapısı, dikkat mekanizmaları, transformer yapısı gibi iç tasarımı.\n",
    "  👉 *(Örnek: Decoder-only, Encoder-decoder transformer)*\n",
    "* **Selecting:** Uygun modeli seçme süreci; kullanım senaryosuna göre doğru LLM’i belirleme.\n",
    "\n",
    "---\n",
    "\n",
    "## 🔧 Tools (Araçlar)\n",
    "\n",
    "* **HuggingFace:** Model paylaşımı, eğitimi ve çalıştırması için popüler bir platform.\n",
    "  👉 *(transformers, datasets gibi paketleri vardır)*\n",
    "* **LangChain:** LLM'leri zincirleme işlemler ve dış kaynaklarla (veritabanı, API) bağlama kütüphanesi.\n",
    "  👉 *(Örnek: veritabanından bilgi al, LLM’e gönder, sonuç üret)*\n",
    "* **Gradio:** Modeller için hızlıca web arayüzü oluşturmayı sağlayan araç.\n",
    "* **Weights & Biases:** Eğitim sürecini görselleştirme ve izleme aracı (ML ops için).\n",
    "* **Modal:** Sunucusuz (serverless) LLM uygulamaları dağıtımı için platform.\n",
    "\n",
    "---\n",
    "\n",
    "## ⚙️ Techniques (Teknikler)\n",
    "\n",
    "* **APIs:** Modellerle REST API üzerinden iletişim kurma yöntemi.\n",
    "  👉 *(Örnek: OpenAI API kullanarak cevap alma)*\n",
    "* **Multi-shot prompting:** LLM'e birden fazla örnek vererek daha doğru cevap almayı hedefleme.\n",
    "  👉 *(Örnek: 3 soru-cevap örneği verip 4. cevabı istemek)*\n",
    "* **RAG (Retrieval-Augmented Generation):** LLM'e dış kaynaktan bilgi getirip, o bilgiyle cevap ürettirme.\n",
    "  👉 *(Örnek: Belgeleri tarayıp onlardan özet üretme)*\n",
    "* **Fine-tuning:** Modelin belirli bir görev veya veriyle yeniden eğitilmesi.\n",
    "  👉 *(Örnek: Bir müşteri hizmetleri chatbot'u için GPT'yi ince ayarlamak)*\n",
    "* **Agentization:** LLM'in kendi kararlarını verip adım adım işlem yapabilen \"ajan\" gibi çalışması.\n",
    "  👉 *(Örnek: Bir görevi çözüme ulaştırmak için araç çağırma, plan yapma)*\n"
   ]
  },
  {
   "attachments": {},
   "cell_type": "markdown",
   "id": "b0c2da3c-5323-4dee-b346-d1972e67be16",
   "metadata": {},
   "source": [
    "![image.png](image02.png)"
   ]
  },
  {
   "cell_type": "markdown",
   "id": "9348d91d-25d8-488c-bb11-ad883c4198bd",
   "metadata": {},
   "source": [
    "\n",
    "1. **Chat interfaces (Sohbet Arayüzleri):**\n",
    "\n",
    "   * Örnek: ChatGPT gibi platformlar\n",
    "   * Kullanıcıların doğrudan sohbet ederek modeli kullanmalarını sağlar.\n",
    "\n",
    "2. **Cloud APIs (Bulut API’leri):**\n",
    "\n",
    "   * LLM API’leri üzerinden\n",
    "   * LangChain gibi framework’lerle entegre edilir.\n",
    "   * Yönetilen AI hizmetleri:\n",
    "\n",
    "     * Amazon Bedrock\n",
    "     * Google Vertex\n",
    "     * Azure ML\n",
    "\n",
    "3. **Direct inference (Doğrudan çıkarım):**\n",
    "\n",
    "   * HuggingFace Transformers kütüphanesi ile\n",
    "   * Ollama gibi araçlarla yerel çalıştırma yapılabilir.\n",
    "\n",
    "---\n",
    "### **Yönetilen AI hizmetleri:**\n",
    "\n",
    "Bunlar, büyük bulut sağlayıcılarının sunduğu hazır altyapılardır. Model eğitme, çalıştırma ve ölçekleme işlemlerini senin yerine yaparlar.\n",
    "\n",
    "* **Amazon Bedrock, Google Vertex AI, Azure ML** gibi platformlar buna örnektir.\n",
    "* Kendi donanımın olmadan büyük dil modellerini kullanabilirsin.\n",
    "\n",
    "### **Ollama:**\n",
    "\n",
    "Ollama, dil modellerini **kendi bilgisayarında (lokal)** çalıştırmanı sağlayan bir araçtır.\n",
    "\n",
    "* İnternete gerek kalmadan, örneğin LLaMA gibi modelleri PC’de hızlıca çalıştırabilirsin.\n",
    "* Geliştiriciler için hafif ve kolaydır.\n"
   ]
  },
  {
   "cell_type": "code",
   "execution_count": null,
   "id": "fd33e651-ed03-4691-bc3d-a29be5ec7e7e",
   "metadata": {},
   "outputs": [],
   "source": []
  }
 ],
 "metadata": {
  "kernelspec": {
   "display_name": "Python 3 (ipykernel)",
   "language": "python",
   "name": "python3"
  },
  "language_info": {
   "codemirror_mode": {
    "name": "ipython",
    "version": 3
   },
   "file_extension": ".py",
   "mimetype": "text/x-python",
   "name": "python",
   "nbconvert_exporter": "python",
   "pygments_lexer": "ipython3",
   "version": "3.11.13"
  }
 },
 "nbformat": 4,
 "nbformat_minor": 5
}
