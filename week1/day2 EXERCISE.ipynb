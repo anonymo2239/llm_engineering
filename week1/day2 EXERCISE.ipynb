{
 "cells": [
  {
   "cell_type": "markdown",
   "id": "d15d8294-3328-4e07-ad16-8a03e9bbfdb9",
   "metadata": {},
   "source": [
    "# Welcome to your first assignment!\n",
    "\n",
    "Instructions are below. Please give this a try, and look in the solutions folder if you get stuck (or feel free to ask me!)"
   ]
  },
  {
   "cell_type": "markdown",
   "id": "ada885d9-4d42-4d9b-97f0-74fbbbfe93a9",
   "metadata": {},
   "source": [
    "<table style=\"margin: 0; text-align: left;\">\n",
    "    <tr>\n",
    "        <td style=\"width: 150px; height: 150px; vertical-align: middle;\">\n",
    "            <img src=\"../resources.jpg\" width=\"150\" height=\"150\" style=\"display: block;\" />\n",
    "        </td>\n",
    "        <td>\n",
    "            <h2 style=\"color:#f71;\">Just before we get to the assignment --</h2>\n",
    "            <span style=\"color:#f71;\">I thought I'd take a second to point you at this page of useful resources for the course. This includes links to all the slides.<br/>\n",
    "            <a href=\"https://edwarddonner.com/2024/11/13/llm-engineering-resources/\">https://edwarddonner.com/2024/11/13/llm-engineering-resources/</a><br/>\n",
    "            Please keep this bookmarked, and I'll continue to add more useful links there over time.\n",
    "            </span>\n",
    "        </td>\n",
    "    </tr>\n",
    "</table>"
   ]
  },
  {
   "cell_type": "markdown",
   "id": "6e9fa1fc-eac5-4d1d-9be4-541b3f2b3458",
   "metadata": {},
   "source": [
    "# HOMEWORK EXERCISE ASSIGNMENT\n",
    "\n",
    "Upgrade the day 1 project to summarize a webpage to use an Open Source model running locally via Ollama rather than OpenAI\n",
    "\n",
    "You'll be able to use this technique for all subsequent projects if you'd prefer not to use paid APIs.\n",
    "\n",
    "**Benefits:**\n",
    "1. No API charges - open-source\n",
    "2. Data doesn't leave your box\n",
    "\n",
    "**Disadvantages:**\n",
    "1. Significantly less power than Frontier Model\n",
    "\n",
    "## Recap on installation of Ollama\n",
    "\n",
    "Simply visit [ollama.com](https://ollama.com) and install!\n",
    "\n",
    "Once complete, the ollama server should already be running locally.  \n",
    "If you visit:  \n",
    "[http://localhost:11434/](http://localhost:11434/)\n",
    "\n",
    "You should see the message `Ollama is running`.  \n",
    "\n",
    "If not, bring up a new Terminal (Mac) or Powershell (Windows) and enter `ollama serve`  \n",
    "And in another Terminal (Mac) or Powershell (Windows), enter `ollama pull llama3.2`  \n",
    "Then try [http://localhost:11434/](http://localhost:11434/) again.\n",
    "\n",
    "If Ollama is slow on your machine, try using `llama3.2:1b` as an alternative. Run `ollama pull llama3.2:1b` from a Terminal or Powershell, and change the code below from `MODEL = \"llama3.2\"` to `MODEL = \"llama3.2:1b\"`"
   ]
  },
  {
   "cell_type": "code",
   "execution_count": 1,
   "id": "4e2a9393-7767-488e-a8bf-27c12dca35bd",
   "metadata": {},
   "outputs": [],
   "source": [
    "# imports\n",
    "\n",
    "import requests\n",
    "from bs4 import BeautifulSoup\n",
    "from IPython.display import Markdown, display"
   ]
  },
  {
   "cell_type": "code",
   "execution_count": 2,
   "id": "29ddd15d-a3c5-4f4e-a678-873f56162724",
   "metadata": {},
   "outputs": [],
   "source": [
    "# Constants\n",
    "\n",
    "OLLAMA_API = \"http://localhost:11434/api/chat\"\n",
    "HEADERS = {\"Content-Type\": \"application/json\"}\n",
    "MODEL = \"llama3.2\""
   ]
  },
  {
   "cell_type": "code",
   "execution_count": 3,
   "id": "dac0a679-599c-441f-9bf2-ddc73d35b940",
   "metadata": {},
   "outputs": [],
   "source": [
    "# Create a messages list using the same format that we used for OpenAI\n",
    "\n",
    "messages = [\n",
    "    {\"role\": \"user\", \"content\": \"Describe some of the business applications of Generative AI\"}\n",
    "]"
   ]
  },
  {
   "cell_type": "code",
   "execution_count": 4,
   "id": "7bb9c624-14f0-4945-a719-8ddb64f66f47",
   "metadata": {},
   "outputs": [],
   "source": [
    "payload = {\n",
    "        \"model\": MODEL,\n",
    "        \"messages\": messages,\n",
    "        \"stream\": False\n",
    "    }"
   ]
  },
  {
   "cell_type": "code",
   "execution_count": 5,
   "id": "479ff514-e8bd-4985-a572-2ea28bb4fa40",
   "metadata": {},
   "outputs": [
    {
     "name": "stderr",
     "output_type": "stream",
     "text": [
      "\u001b[?2026h\u001b[?25l\u001b[1Gpulling manifest â ‹ \u001b[K\u001b[?25h\u001b[?2026l\u001b[?2026h\u001b[?25l\u001b[1Gpulling manifest â ™ \u001b[K\u001b[?25h\u001b[?2026l\u001b[?2026h\u001b[?25l\u001b[1Gpulling manifest â ¹ \u001b[K\u001b[?25h\u001b[?2026l\u001b[?2026h\u001b[?25l\u001b[1Gpulling manifest â ¸ \u001b[K\u001b[?25h\u001b[?2026l\u001b[?2026h\u001b[?25l\u001b[1Gpulling manifest â ¼ \u001b[K\u001b[?25h\u001b[?2026l\u001b[?2026h\u001b[?25l\u001b[1Gpulling manifest â ´ \u001b[K\u001b[?25h\u001b[?2026l\u001b[?2026h\u001b[?25l\u001b[1Gpulling manifest â ¦ \u001b[K\u001b[?25h\u001b[?2026l\u001b[?2026h\u001b[?25l\u001b[1Gpulling manifest â § \u001b[K\u001b[?25h\u001b[?2026l\u001b[?2026h\u001b[?25l\u001b[1Gpulling manifest â ‡ \u001b[K\u001b[?25h\u001b[?2026l\u001b[?2026h\u001b[?25l\u001b[1Gpulling manifest â � \u001b[K\u001b[?25h\u001b[?2026l\u001b[?2026h\u001b[?25l\u001b[1Gpulling manifest â ‹ \u001b[K\u001b[?25h\u001b[?2026l\u001b[?2026h\u001b[?25l\u001b[1Gpulling manifest â ™ \u001b[K\u001b[?25h\u001b[?2026l\u001b[?2026h\u001b[?25l\u001b[1Gpulling manifest â ¹ \u001b[K\u001b[?25h\u001b[?2026l\u001b[?2026h\u001b[?25l\u001b[1Gpulling manifest â ¸ \u001b[K\u001b[?25h\u001b[?2026l\u001b[?2026h\u001b[?25l\u001b[1Gpulling manifest â ¼ \u001b[K\u001b[?25h\u001b[?2026l\u001b[?2026h\u001b[?25l\u001b[1Gpulling manifest â ´ \u001b[K\u001b[?25h\u001b[?2026l\u001b[?2026h\u001b[?25l\u001b[1Gpulling manifest â ¦ \u001b[K\u001b[?25h\u001b[?2026l\u001b[?2026h\u001b[?25l\u001b[1Gpulling manifest â § \u001b[K\u001b[?25h\u001b[?2026l\u001b[?2026h\u001b[?25l\u001b[1Gpulling manifest â ‡ \u001b[K\u001b[?25h\u001b[?2026l\u001b[?2026h\u001b[?25l\u001b[1Gpulling manifest â � \u001b[K\u001b[?25h\u001b[?2026l\u001b[?2026h\u001b[?25l\u001b[1Gpulling manifest â ‹ \u001b[K\u001b[?25h\u001b[?2026l\u001b[?2026h\u001b[?25l\u001b[1Gpulling manifest â ™ \u001b[K\u001b[?25h\u001b[?2026l\u001b[?2026h\u001b[?25l\u001b[1Gpulling manifest â ¹ \u001b[K\u001b[?25h\u001b[?2026l\u001b[?2026h\u001b[?25l\u001b[1Gpulling manifest â ¸ \u001b[K\u001b[?25h\u001b[?2026l\u001b[?2026h\u001b[?25l\u001b[1Gpulling manifest â ¼ \u001b[K\u001b[?25h\u001b[?2026l\u001b[?2026h\u001b[?25l\u001b[1Gpulling manifest â ´ \u001b[K\u001b[?25h\u001b[?2026l\u001b[?2026h\u001b[?25l\u001b[1Gpulling manifest â ¦ \u001b[K\u001b[?25h\u001b[?2026l\u001b[?2026h\u001b[?25l\u001b[1Gpulling manifest â § \u001b[K\u001b[?25h\u001b[?2026l\u001b[?2026h\u001b[?25l\u001b[1Gpulling manifest â ‡ \u001b[K\u001b[?25h\u001b[?2026l\u001b[?2026h\u001b[?25l\u001b[1Gpulling manifest â � \u001b[K\u001b[?25h\u001b[?2026l\u001b[?2026h\u001b[?25l\u001b[1Gpulling manifest â ‹ \u001b[K\u001b[?25h\u001b[?2026l\u001b[?2026h\u001b[?25l\u001b[1Gpulling manifest â ™ \u001b[K\u001b[?25h\u001b[?2026l\u001b[?2026h\u001b[?25l\u001b[1Gpulling manifest â ¹ \u001b[K\u001b[?25h\u001b[?2026l\u001b[?2026h\u001b[?25l\u001b[1Gpulling manifest â ¸ \u001b[K\u001b[?25h\u001b[?2026l\u001b[?2026h\u001b[?25l\u001b[1Gpulling manifest â ¼ \u001b[K\u001b[?25h\u001b[?2026l\u001b[?2026h\u001b[?25l\u001b[1Gpulling manifest â ´ \u001b[K\u001b[?25h\u001b[?2026l\u001b[?2026h\u001b[?25l\u001b[1Gpulling manifest â ¦ \u001b[K\u001b[?25h\u001b[?2026l\u001b[?2026h\u001b[?25l\u001b[1Gpulling manifest â § \u001b[K\u001b[?25h\u001b[?2026l\u001b[?2026h\u001b[?25l\u001b[1Gpulling manifest â ‡ \u001b[K\u001b[?25h\u001b[?2026l\u001b[?2026h\u001b[?25l\u001b[1Gpulling manifest â � \u001b[K\u001b[?25h\u001b[?2026l\u001b[?2026h\u001b[?25l\u001b[1Gpulling manifest â ‹ \u001b[K\u001b[?25h\u001b[?2026l\u001b[?2026h\u001b[?25l\u001b[1Gpulling manifest â ™ \u001b[K\u001b[?25h\u001b[?2026l\u001b[?2026h\u001b[?25l\u001b[1Gpulling manifest â ¹ \u001b[K\u001b[?25h\u001b[?2026l\u001b[?2026h\u001b[?25l\u001b[1Gpulling manifest â ¼ \u001b[K\u001b[?25h\u001b[?2026l\u001b[?2026h\u001b[?25l\u001b[1Gpulling manifest â ¼ \u001b[K\u001b[?25h\u001b[?2026l\u001b[?2026h\u001b[?25l\u001b[1Gpulling manifest â ´ \u001b[K\u001b[?25h\u001b[?2026l\u001b[?2026h\u001b[?25l\u001b[1Gpulling manifest â ¦ \u001b[K\u001b[?25h\u001b[?2026l\u001b[?2026h\u001b[?25l\u001b[1Gpulling manifest â § \u001b[K\u001b[?25h\u001b[?2026l\u001b[?2026h\u001b[?25l\u001b[1Gpulling manifest â ‡ \u001b[K\u001b[?25h\u001b[?2026l\u001b[?2026h\u001b[?25l\u001b[1Gpulling manifest \u001b[K\n",
      "pulling dde5aa3fc5ff: 100% â–•â–ˆâ–ˆâ–ˆâ–ˆâ–ˆâ–ˆâ–ˆâ–ˆâ–ˆâ–ˆâ–ˆâ–ˆâ–ˆâ–ˆâ–ˆâ–ˆâ–ˆâ–ˆâ–� 2.0 GB                         \u001b[K\n",
      "pulling 966de95ca8a6: 100% â–•â–ˆâ–ˆâ–ˆâ–ˆâ–ˆâ–ˆâ–ˆâ–ˆâ–ˆâ–ˆâ–ˆâ–ˆâ–ˆâ–ˆâ–ˆâ–ˆâ–ˆâ–ˆâ–� 1.4 KB                         \u001b[K\n",
      "pulling fcc5a6bec9da: 100% â–•â–ˆâ–ˆâ–ˆâ–ˆâ–ˆâ–ˆâ–ˆâ–ˆâ–ˆâ–ˆâ–ˆâ–ˆâ–ˆâ–ˆâ–ˆâ–ˆâ–ˆâ–ˆâ–� 7.7 KB                         \u001b[K\n",
      "pulling a70ff7e570d9: 100% â–•â–ˆâ–ˆâ–ˆâ–ˆâ–ˆâ–ˆâ–ˆâ–ˆâ–ˆâ–ˆâ–ˆâ–ˆâ–ˆâ–ˆâ–ˆâ–ˆâ–ˆâ–ˆâ–� 6.0 KB                         \u001b[K\n",
      "pulling 56bb8bd477a5: 100% â–•â–ˆâ–ˆâ–ˆâ–ˆâ–ˆâ–ˆâ–ˆâ–ˆâ–ˆâ–ˆâ–ˆâ–ˆâ–ˆâ–ˆâ–ˆâ–ˆâ–ˆâ–ˆâ–�   96 B                         \u001b[K\n",
      "pulling 34bb5ab01051: 100% â–•â–ˆâ–ˆâ–ˆâ–ˆâ–ˆâ–ˆâ–ˆâ–ˆâ–ˆâ–ˆâ–ˆâ–ˆâ–ˆâ–ˆâ–ˆâ–ˆâ–ˆâ–ˆâ–�  561 B                         \u001b[K\n",
      "verifying sha256 digest \u001b[K\n",
      "writing manifest \u001b[K\n",
      "success \u001b[K\u001b[?25h\u001b[?2026l\n"
     ]
    }
   ],
   "source": [
    "# Let's just make sure the model is loaded\n",
    "\n",
    "!ollama pull llama3.2"
   ]
  },
  {
   "cell_type": "code",
   "execution_count": 6,
   "id": "42b9f644-522d-4e05-a691-56e7658c0ea9",
   "metadata": {},
   "outputs": [
    {
     "name": "stdout",
     "output_type": "stream",
     "text": [
      "Generative AI has numerous business applications across various industries. Here are some examples:\n",
      "\n",
      "1. **Content Creation**: Generative AI can create high-quality content such as articles, social media posts, product descriptions, and even entire e-books. This can help businesses save time and resources while maintaining a consistent tone and style.\n",
      "2. **Image and Video Generation**: Generative AI can generate images and videos that are indistinguishable from those created by humans. This has applications in areas such as:\n",
      " * E-commerce: generating product images, fashion designs, and product demos\n",
      " * Advertising: creating eye-catching visuals for campaigns and ads\n",
      " * Entertainment: generating special effects, animations, and motion graphics\n",
      "3. **Chatbots and Virtual Assistants**: Generative AI can power chatbots and virtual assistants that provide customer support, answer frequently asked questions, and offer personalized recommendations.\n",
      "4. **Predictive Analytics**: Generative AI can analyze large datasets and generate predictions on future trends and outcomes. This has applications in areas such as:\n",
      " * Market research: predicting market trends and consumer behavior\n",
      " * Risk management: identifying potential risks and opportunities for businesses\n",
      " * Supply chain optimization: predicting demand and optimizing inventory levels\n",
      "5. **Product Design**: Generative AI can create 3D models, product designs, and prototypes that meet specific requirements. This has applications in areas such as:\n",
      " * Fashion design: generating clothing and accessory designs\n",
      " * Industrial design: creating product prototypes and designs for manufacturing\n",
      " * Architecture: generating building designs and blueprints\n",
      "6. **Marketing Automation**: Generative AI can automate marketing campaigns by generating content, targeting specific audiences, and predicting customer behavior.\n",
      "7. **Language Translation**: Generative AI can translate text and speech in real-time, enabling businesses to communicate with customers and partners across languages and cultures.\n",
      "8. **Creative Writing**: Generative AI can generate creative writing such as poetry, short stories, and even entire novels. This has applications in areas such as:\n",
      " * Publishing: generating content for books and magazines\n",
      " * Advertising: creating compelling ad copy and scripts\n",
      " * Education: creating engaging educational materials and textbooks\n",
      "9. **Data Analysis**: Generative AI can analyze large datasets and identify patterns, trends, and insights that may not be apparent through human analysis.\n",
      "10. **Cybersecurity**: Generative AI can help detect and prevent cyber threats by analyzing network traffic, identifying anomalies, and predicting potential attack vectors.\n",
      "\n",
      "These are just a few examples of the many business applications of Generative AI. As the technology continues to evolve, we can expect to see even more innovative uses in various industries.\n"
     ]
    }
   ],
   "source": [
    "# If this doesn't work for any reason, try the 2 versions in the following cells\n",
    "# And double check the instructions in the 'Recap on installation of Ollama' at the top of this lab\n",
    "# And if none of that works - contact me!\n",
    "\n",
    "response = requests.post(OLLAMA_API, json=payload, headers=HEADERS)\n",
    "print(response.json()['message']['content'])"
   ]
  },
  {
   "cell_type": "markdown",
   "id": "6a021f13-d6a1-4b96-8e18-4eae49d876fe",
   "metadata": {},
   "source": [
    "# Ollama paketinin tanıtımı\n",
    "Şimdi de aynı işlemi, doğrudan HTTP çağrısı yapmak yerine, şık **Ollama Python paketi**ni kullanarak yapacağız.\n",
    "\n",
    "Alt yapıda, bu paket yine yukarıdakiyle aynı çağrıyı yapıyor: `localhost:11434` adresinde çalışan Ollama sunucusuna istek gönderiyor."
   ]
  },
  {
   "cell_type": "code",
   "execution_count": 7,
   "id": "7745b9c4-57dc-4867-9180-61fa5db55eb8",
   "metadata": {},
   "outputs": [
    {
     "name": "stdout",
     "output_type": "stream",
     "text": [
      "Generative AI has numerous business applications across various industries, including:\n",
      "\n",
      "1. **Content Creation**: Generative AI can be used to generate high-quality content such as articles, social media posts, and product descriptions. For example, AI-powered tools like WordLift and Content Blossom can help businesses create unique and engaging content.\n",
      "2. **Marketing and Advertising**: Generative AI can be used to create personalized marketing messages, product recommendations, and ad copy. For instance, AI-powered platforms like Adalo and AdEspresso can generate targeted ads based on customer data and preferences.\n",
      "3. **Product Design and Development**: Generative AI can be used to design and develop new products, such as 3D models, textures, and materials. For example, AI-powered tools like Autodesk's Dreambook and Fusion 360 can help designers create complex designs with ease.\n",
      "4. **Image and Video Generation**: Generative AI can be used to generate high-quality images and videos for various applications such as product visualization, marketing campaigns, and social media content.\n",
      "5. **Customer Service Chatbots**: Generative AI can be used to develop chatbots that can understand customer queries, provide personalized responses, and offer solutions to common issues.\n",
      "6. **Predictive Analytics**: Generative AI can be used to analyze historical data and make predictions about future outcomes such as sales forecasts, customer churn rates, and market trends.\n",
      "7. **Business Intelligence and Reporting**: Generative AI can be used to create business intelligence reports, dashboards, and visualizations that help decision-makers understand complex data insights.\n",
      "8. **Language Translation**: Generative AI can be used to translate text from one language to another with high accuracy and speed.\n",
      "9. **Email Marketing Automation**: Generative AI can be used to automate email marketing campaigns by generating personalized subject lines, email bodies, and recommendations based on customer behavior.\n",
      "10. **Cybersecurity Threat Detection**: Generative AI can be used to detect and respond to cybersecurity threats in real-time by analyzing network traffic patterns and identifying potential security breaches.\n",
      "\n",
      "Some notable companies that are already leveraging generative AI include:\n",
      "\n",
      "* Google (e.g., DeepMind's AlphaFold for protein structure prediction)\n",
      "* Amazon (e.g., Alexa's conversational interface)\n",
      "* IBM (e.g., Watson Assistant for customer service chatbots)\n",
      "* NVIDIA (e.g., AI-powered graphics and game engines)\n",
      "* Salesforce (e.g., Einstein Analytics for predictive analytics)\n",
      "\n",
      "As the technology continues to evolve, we can expect even more innovative applications of generative AI in various industries.\n"
     ]
    }
   ],
   "source": [
    "import ollama\n",
    "\n",
    "response = ollama.chat(model=MODEL, messages=messages)\n",
    "print(response['message']['content'])"
   ]
  },
  {
   "cell_type": "markdown",
   "id": "d6410e20-2526-41b5-b9a7-4c6cb79c0e8c",
   "metadata": {},
   "source": [
    "Model: llama3.2 (yerel olarak çalışıyor, Ollama sunucusu üzerinden)\n",
    "\n",
    "API: http://localhost:11434/api/chat (yani OpenAI sunucusu değil, kendi bilgisayarında çalışıyor)\n",
    "\n",
    "Kütüphane: requests.post() ile manuel HTTP çağrısı yapıyor\n",
    "\n",
    "Kullanım amacı: Kendi makinende açık kaynak bir LLM (Llama3) ile işlem yapmak"
   ]
  },
  {
   "cell_type": "markdown",
   "id": "a4704e10-f5fb-4c15-a935-f046c06fb13d",
   "metadata": {},
   "source": [
    "## Alternative approach - using OpenAI python library to connect to Ollama"
   ]
  },
  {
   "cell_type": "code",
   "execution_count": 8,
   "id": "23057e00-b6fc-4678-93a9-6b31cb704bff",
   "metadata": {},
   "outputs": [
    {
     "name": "stdout",
     "output_type": "stream",
     "text": [
      "Generative AI, a subfield of artificial intelligence (AI), has numerous exciting business applications across various industries. Some of these applications include:\n",
      "\n",
      "1. **Content generation**: Generative AI can create high-quality content such as text, images, music, and videos, reducing the need for human writers or artists.\n",
      "\n",
      "2. **Marketing automation**: AI-powered chatbots use generative techniques to personalize interactions with customers and clients.\n",
      "\n",
      "3. **Virtual marketing assistants**: Virtual assistants are integrated into various industries and help people through various communication channels.\n",
      "\n",
      "4. **Sales forecasting and analytics**: This application uses machine learning algorithms in combination with large datasets and data visualization tools, offering detailed insights on how it should be used as well as where improvements can be done to maximize potential results.\n",
      "\n",
      "5. **Design engineering and development**: Generative AI models of various forms (for example 3D printing objects) will eventually revolutionize manufacturing practices across industries such as architecture, product design, etc., while minimizing the risk associated with traditional methods like trial-and-error construction processes or reliance on physical prototypes.\n",
      "\n",
      "6. **Customer service automation**: Integrating generative components into existing call centers to boost response times and productivity, thus enabling the businesses to grow and expand effectively, improving overall results across multiple stakeholders.\n",
      "\n",
      "7. **Healthcare data analysis**: Using machine learning techniques can predict patient outcomes, helping healthcare professionals identify early warning signs of potential health problems that require urgent attention.\n",
      "\n",
      "8. **Virtual human avatars**: Generative AI is used create engaging interactive customer experiences through advanced character-like interactions - these 'digital humans' are equipped with speech synthesis capabilities.\n",
      "\n",
      "9. **Product design optimization and analysis**: With the help of generative algorithms, product development teams can rapidly explore different possibilities and evaluate potential options before spending time designing them manually.\n",
      "\n",
      "10. **Autonomous decision-making tools**: AI can assist users in finding solutions by making smart decisions based on historical data when considering various business strategies and providing accurate analytics and predictions which enable businesses to improve their performance while increasing operational efficiency.\n"
     ]
    }
   ],
   "source": [
    "# There's actually an alternative approach that some people might prefer\n",
    "# You can use the OpenAI client python library to call Ollama:\n",
    "\n",
    "from openai import OpenAI\n",
    "ollama_via_openai = OpenAI(base_url='http://localhost:11434/v1', api_key='ollama')\n",
    "\n",
    "response = ollama_via_openai.chat.completions.create(\n",
    "    model=MODEL,\n",
    "    messages=messages\n",
    ")\n",
    "\n",
    "print(response.choices[0].message.content)"
   ]
  },
  {
   "cell_type": "markdown",
   "id": "9f9e22da-b891-41f6-9ac9-bd0c0a5f4f44",
   "metadata": {},
   "source": [
    "## Bu neden çalışıyor diye kafan mı karıştı?\n",
    "\n",
    "Biraz garip geliyor değil mi? Az önce **OpenAI kodunu kullanarak Ollama’ya istek attık**!? Neler oluyor?!\n",
    "\n",
    "İşte olayın özeti:\n",
    "\n",
    "Python’daki `OpenAI` sınıfı, aslında **OpenAI mühendislerinin yazdığı ve internete istek gönderen bir kod parçası**dır.\n",
    "\n",
    "Sen `openai.chat.completions.create()` komutunu çalıştırdığında, bu Python kodu aslında şu adrese bir web isteği yapar:\n",
    "**`https://api.openai.com/v1/chat/completions`**\n",
    "\n",
    "Bu tarz koda “**istemci kütüphanesi (client library)**” denir – yani kendi bilgisayarında çalışan ama uzaktaki bir API’ye istek gönderen bir sarmalayıcıdır. Gerçek GPT gücü senin bilgisayarında değil, **OpenAI’in bulut sisteminde** çalışır.\n",
    "\n",
    "OpenAI o kadar popüler oldu ki, **diğer birçok yapay zekâ sağlayıcısı da birebir aynı endpoint’leri sunmaya başladı**. Böylece bu kodlarla aynı yöntemle onlara da ulaşabiliyorsun.\n",
    "\n",
    "İşte Ollama da böyle yapıyor:\n",
    "**`http://localhost:11434/v1/chat/completions`** adresinde kendi bilgisayarında çalışan bir endpoint var.\n",
    "\n",
    "İkinci haftada göreceğiz ki, **Gemini, DeepSeek** gibi diğer sağlayıcılar da aynısını yapıyor.\n",
    "\n",
    "Sonra OpenAI ekibi harika bir fikirle geldi:\n",
    "**Kendi client kütüphanelerini biraz esnek hale getirip**, kullanıcıların sadece `base_url` değiştirerek bu kodla başka API’leri de çağırmasına izin verdiler.\n",
    "\n",
    "Hepsi bu!\n",
    "\n",
    "Yani şöyle dediğinde:\n",
    "\n",
    "```python\n",
    "ollama_via_openai = OpenAI(base_url='http://localhost:11434/v1', api_key='ollama')\n",
    "```\n",
    "\n",
    "Bu, aynı çağrıyı yapar ama hedef artık **OpenAI değil, Ollama olur**.\n"
   ]
  },
  {
   "cell_type": "markdown",
   "id": "bc7d1de3-e2ac-46ff-a302-3b4ba38c4c90",
   "metadata": {},
   "source": [
    "## Also trying the amazing reasoning model DeepSeek\n",
    "\n",
    "Here we use the version of DeepSeek-reasoner that's been distilled to 1.5B.  \n",
    "This is actually a 1.5B variant of Qwen that has been fine-tuned using synethic data generated by Deepseek R1.\n",
    "\n",
    "Other sizes of DeepSeek are [here](https://ollama.com/library/deepseek-r1) all the way up to the full 671B parameter version, which would use up 404GB of your drive and is far too large for most!"
   ]
  },
  {
   "cell_type": "code",
   "execution_count": null,
   "id": "cf9eb44e-fe5b-47aa-b719-0bb63669ab3d",
   "metadata": {},
   "outputs": [],
   "source": [
    "!ollama pull deepseek-r1:1.5b"
   ]
  },
  {
   "cell_type": "code",
   "execution_count": null,
   "id": "1d3d554b-e00d-4c08-9300-45e073950a76",
   "metadata": {},
   "outputs": [],
   "source": [
    "# This may take a few minutes to run! You should then see a fascinating \"thinking\" trace inside <think> tags, followed by some decent definitions\n",
    "\n",
    "response = ollama_via_openai.chat.completions.create(\n",
    "    model=\"deepseek-r1:1.5b\",\n",
    "    messages=[{\"role\": \"user\", \"content\": \"Please give definitions of some core concepts behind LLMs: a neural network, attention and the transformer\"}]\n",
    ")\n",
    "\n",
    "print(response.choices[0].message.content)"
   ]
  },
  {
   "cell_type": "markdown",
   "id": "1622d9bb-5c68-4d4e-9ca4-b492c751f898",
   "metadata": {},
   "source": [
    "# NOW the exercise for you\n",
    "\n",
    "Take the code from day1 and incorporate it here, to build a website summarizer that uses Llama 3.2 running locally instead of OpenAI; use either of the above approaches."
   ]
  },
  {
   "cell_type": "code",
   "execution_count": null,
   "id": "6de38216-6d1c-48c4-877b-86d403f4e0f8",
   "metadata": {},
   "outputs": [],
   "source": []
  }
 ],
 "metadata": {
  "kernelspec": {
   "display_name": "Python 3 (ipykernel)",
   "language": "python",
   "name": "python3"
  },
  "language_info": {
   "codemirror_mode": {
    "name": "ipython",
    "version": 3
   },
   "file_extension": ".py",
   "mimetype": "text/x-python",
   "name": "python",
   "nbconvert_exporter": "python",
   "pygments_lexer": "ipython3",
   "version": "3.11.13"
  }
 },
 "nbformat": 4,
 "nbformat_minor": 5
}
